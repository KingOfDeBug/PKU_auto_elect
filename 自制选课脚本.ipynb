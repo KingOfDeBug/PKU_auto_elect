{
 "cells": [
  {
   "cell_type": "markdown",
   "id": "beginning-discretion",
   "metadata": {},
   "source": [
    "# 选课信息"
   ]
  },
  {
   "cell_type": "code",
   "execution_count": null,
   "id": "foreign-diagnosis",
   "metadata": {
    "ExecuteTime": {
     "end_time": "2021-05-29T14:19:25.782701Z",
     "start_time": "2021-05-29T14:19:25.780328Z"
    }
   },
   "outputs": [],
   "source": [
    "username = \"\"\n",
    "password = \"\"\n",
    "driver_path = '' # webdriver路径\n",
    "img_path = 'img' #图片暂存路径\n",
    "gif_path = 'gif' #gif暂存路径"
   ]
  },
  {
   "cell_type": "markdown",
   "id": "parallel-tourist",
   "metadata": {
    "ExecuteTime": {
     "end_time": "2021-03-07T12:48:47.254043Z",
     "start_time": "2021-03-07T12:48:47.148670Z"
    }
   },
   "source": [
    "# 初始化"
   ]
  },
  {
   "cell_type": "code",
   "execution_count": null,
   "id": "alternate-karen",
   "metadata": {
    "ExecuteTime": {
     "end_time": "2021-05-29T14:19:27.778580Z",
     "start_time": "2021-05-29T14:19:25.785023Z"
    }
   },
   "outputs": [],
   "source": [
    "from selenium import webdriver  # 用来驱动浏览器的\n",
    "from selenium.webdriver.support import expected_conditions as EC  # 和下面WebDriverWait一起用的\n",
    "from selenium.webdriver.support.wait import WebDriverWait  # 等待页面加载某些元素\n",
    "import pyautogui\n",
    "import time\n",
    "import requests\n",
    "import os\n",
    "from PIL import Image\n",
    "import base64\n",
    "import json\n",
    "import requests\n",
    "from selenium.webdriver.chrome.options import Options\n",
    "from random import random\n",
    "#chrome_options = Options()\n",
    "#chrome_options.add_argument('--headless')\n",
    "#driver = webdriver.Chrome(driver_path,chrome_options = chrome_options)\n",
    "#driver = webdriver.Chrome(driver_path)"
   ]
  },
  {
   "cell_type": "code",
   "execution_count": null,
   "id": "rough-electronics",
   "metadata": {
    "ExecuteTime": {
     "end_time": "2021-05-29T14:19:27.785781Z",
     "start_time": "2021-05-29T14:19:27.780543Z"
    }
   },
   "outputs": [],
   "source": [
    "def ran(x):\n",
    "    return x+(random()-0.5)*x"
   ]
  },
  {
   "cell_type": "markdown",
   "id": "artificial-explosion",
   "metadata": {},
   "source": [
    "# 自动选课脚本"
   ]
  },
  {
   "cell_type": "code",
   "execution_count": null,
   "id": "governmental-stevens",
   "metadata": {
    "ExecuteTime": {
     "end_time": "2021-05-29T14:19:27.817761Z",
     "start_time": "2021-05-29T14:19:27.787552Z"
    }
   },
   "outputs": [],
   "source": [
    "class elective:\n",
    "    def __init__(self,driver_path):\n",
    "        self.driver = webdriver.Chrome(driver_path)\n",
    "    \n",
    "    # 登录\n",
    "    def login(self,username,password):\n",
    "        self.driver.get('https://elective.pku.edu.cn/')\n",
    "        self.driver.implicitly_wait(10)\n",
    "        self.driver.find_element_by_id('user_name').send_keys(username)\n",
    "        self.driver.find_element_by_id('password').send_keys(password)\n",
    "        self.driver.find_element_by_id('logon_button').click()\n",
    "        self.driver.implicitly_wait(10)\n",
    "        self.driver.find_element_by_link_text('补退选').click()\n",
    "        self.driver.implicitly_wait(10)\n",
    "\n",
    "        \n",
    "    # 创建临时目录\n",
    "    def clear_dir(self,path):\n",
    "        if not os.path.isdir(path):\n",
    "            os.mkdir(path)  # 创建目录\n",
    "        else:  # 清空目录\n",
    "            [os.remove(os.path.join(path, file_name)) for file_name in os.listdir(path)]\n",
    "    \n",
    "    \n",
    "    # 获取验证码\n",
    "    def get_captcha(self,img_path):\n",
    "        \n",
    "        # 清空路径\n",
    "        self.clear_dir(img_path)\n",
    "        self.driver.implicitly_wait(10)\n",
    "        # 预截屏5次，避免刚开始截屏时卡顿\n",
    "        tem_path = os.path.join(img_path,'1.png')\n",
    "        for i in range(5):\n",
    "            self.driver.find_element_by_id('imgname').screenshot(tem_path)\n",
    "        \n",
    "        # 点击“换一个”\n",
    "        self.driver.find_element_by_link_text('换一个').click()\n",
    "        self.driver.implicitly_wait(10)\n",
    "        \n",
    "        # 截屏\n",
    "        for i in range(200):\n",
    "            img_file = os.path.join(img_path,str(i)+'.png')\n",
    "            self.driver.find_element_by_id('imgname').screenshot(img_file)\n",
    "            \n",
    "            \n",
    "    # 输入验证码\n",
    "    def send_captcha(self,captcha):\n",
    "        self.driver.find_element_by_id('validCode').send_keys(captcha)\n",
    "        \n",
    "    \n",
    "    # 刷新或补选\n",
    "    def refresh_or_elect(self):\n",
    "        try:\n",
    "            self.driver.find_element_by_link_text('刷新').click()\n",
    "            time.sleep(ran(0.2))\n",
    "            self.driver.switch_to.alert.accept()\n",
    "        except :\n",
    "            try:\n",
    "                self.driver.find_element_by_link_text('补选').click()\n",
    "                time.sleep(ran(0.2))\n",
    "                self.driver.switch_to.alert.accept()\n",
    "            except:\n",
    "                pass\n",
    "    \n",
    "    # 直接补选\n",
    "    def elect(self):\n",
    "        self.driver.find_element_by_link_text('补选').click()\n",
    "        time.sleep(ran(0.2))\n",
    "        self.driver.switch_to.alert.accept()\n",
    "        \n",
    "    def close(self):\n",
    "        self.driver.close()"
   ]
  },
  {
   "cell_type": "markdown",
   "id": "powerful-edition",
   "metadata": {},
   "source": [
    "# 获取验证码"
   ]
  },
  {
   "cell_type": "markdown",
   "id": "corrected-conflict",
   "metadata": {},
   "source": [
    "## 合成gif"
   ]
  },
  {
   "cell_type": "code",
   "execution_count": null,
   "id": "single-dominant",
   "metadata": {
    "ExecuteTime": {
     "end_time": "2021-05-29T14:19:27.823202Z",
     "start_time": "2021-05-29T14:19:27.819288Z"
    },
    "code_folding": []
   },
   "outputs": [],
   "source": [
    "def make_gif(img_path):\n",
    "    img_list = os.listdir(img_path)\n",
    "    img_list.sort(key = lambda x:int(x.split('.')[0]))\n",
    "    first_img = Image.open(os.path.join(img_path, img_list[0]))  # 第一张图片对象\n",
    "    else_imgs = [Image.open(os.path.join(img_path, img)) for img in img_list[1:]]  # 剩余图片对象\n",
    "\n",
    "    first_img.save(\"record.gif\", append_images=else_imgs,\n",
    "                 duration=150,  # 每张图片的过过渡时间\n",
    "                 save_all=True) # 拼接保存，如果想要循环播放可以加上loop=0"
   ]
  },
  {
   "cell_type": "markdown",
   "id": "controlled-romance",
   "metadata": {},
   "source": [
    "## 利用ttshitu.com识别验证码"
   ]
  },
  {
   "cell_type": "code",
   "execution_count": null,
   "id": "extra-guinea",
   "metadata": {
    "ExecuteTime": {
     "end_time": "2021-05-29T14:19:27.828685Z",
     "start_time": "2021-05-29T14:19:27.824980Z"
    }
   },
   "outputs": [],
   "source": [
    "def base64_api(uname, pwd, img, typeid):\n",
    "    with open(img, 'rb') as f:\n",
    "        base64_data = base64.b64encode(f.read())\n",
    "        b64 = base64_data.decode()\n",
    "    data = {\"username\": uname, \"password\": pwd, \"typeid\": typeid, \"image\": b64}\n",
    "    result = json.loads(requests.post(\"http://api.ttshitu.com/predict\", json=data).text)\n",
    "    if result['success']:\n",
    "        return result[\"data\"][\"result\"]\n",
    "    else:\n",
    "        return result[\"message\"]\n",
    "    return \"\""
   ]
  },
  {
   "cell_type": "markdown",
   "id": "italian-thesaurus",
   "metadata": {},
   "source": [
    "## 识别验证码"
   ]
  },
  {
   "cell_type": "code",
   "execution_count": null,
   "id": "crucial-logic",
   "metadata": {
    "ExecuteTime": {
     "end_time": "2021-05-29T14:19:27.833809Z",
     "start_time": "2021-05-29T14:19:27.831668Z"
    }
   },
   "outputs": [],
   "source": [
    "def recognize(img_path):\n",
    "    make_gif(img_path)\n",
    "    captcha = base64_api('','','record.gif',7)\n",
    "    return captcha"
   ]
  },
  {
   "cell_type": "markdown",
   "id": "wanted-pipeline",
   "metadata": {},
   "source": [
    "# 主程序"
   ]
  },
  {
   "cell_type": "code",
   "execution_count": null,
   "id": "hearing-barrier",
   "metadata": {
    "ExecuteTime": {
     "start_time": "2021-05-29T14:19:25.777Z"
    }
   },
   "outputs": [],
   "source": [
    "while True:\n",
    "    try:\n",
    "        # 生成\n",
    "        elective_lst = []\n",
    "        for i in range(4):\n",
    "            elective_lst.append(elective(driver_path))\n",
    "            \n",
    "        # 登录    \n",
    "        for x in elective_lst:\n",
    "            x.login(username,password)\n",
    "            time.sleep(ran(1))\n",
    "        \n",
    "        # 填充验证码\n",
    "        for x in elective_lst:\n",
    "            x.get_captcha(img_path)\n",
    "            captcha = recognize(img_path)\n",
    "            x.send_captcha(captcha)\n",
    "        \n",
    "        \n",
    "        # 刷新\n",
    "        for j in range(5):\n",
    "            for x in elective_lst:\n",
    "                x.refresh_or_elect()\n",
    "                #x.elect()\n",
    "                time.sleep(ran(2))\n",
    "        \n",
    "        # 关闭\n",
    "        for x in elective_lst:\n",
    "            x.close()\n",
    "        \n",
    "    except:\n",
    "        pass"
   ]
  },
  {
   "cell_type": "code",
   "execution_count": null,
   "id": "detected-coverage",
   "metadata": {},
   "outputs": [],
   "source": []
  }
 ],
 "metadata": {
  "hide_input": false,
  "kernelspec": {
   "display_name": "Python 3",
   "language": "python",
   "name": "python3"
  },
  "language_info": {
   "codemirror_mode": {
    "name": "ipython",
    "version": 3
   },
   "file_extension": ".py",
   "mimetype": "text/x-python",
   "name": "python",
   "nbconvert_exporter": "python",
   "pygments_lexer": "ipython3",
   "version": "3.7.6"
  },
  "toc": {
   "base_numbering": 1,
   "nav_menu": {},
   "number_sections": true,
   "sideBar": true,
   "skip_h1_title": false,
   "title_cell": "Table of Contents",
   "title_sidebar": "Contents",
   "toc_cell": false,
   "toc_position": {},
   "toc_section_display": true,
   "toc_window_display": false
  },
  "varInspector": {
   "cols": {
    "lenName": 16,
    "lenType": 16,
    "lenVar": 40
   },
   "kernels_config": {
    "python": {
     "delete_cmd_postfix": "",
     "delete_cmd_prefix": "del ",
     "library": "var_list.py",
     "varRefreshCmd": "print(var_dic_list())"
    },
    "r": {
     "delete_cmd_postfix": ") ",
     "delete_cmd_prefix": "rm(",
     "library": "var_list.r",
     "varRefreshCmd": "cat(var_dic_list()) "
    }
   },
   "types_to_exclude": [
    "module",
    "function",
    "builtin_function_or_method",
    "instance",
    "_Feature"
   ],
   "window_display": false
  }
 },
 "nbformat": 4,
 "nbformat_minor": 5
}
